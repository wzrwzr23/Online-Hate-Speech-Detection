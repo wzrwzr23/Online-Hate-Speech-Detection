{
 "cells": [
  {
   "cell_type": "markdown",
   "metadata": {},
   "source": [
    "# 50.007 Machine Learning Project\n",
    "- 1005153 Yap Zhan Hao, Sean\n",
    "- 1004866 Wang Yueheng\n",
    "- 1004867 Wang Zhuoran\n",
    "- 1004885 Guo Yuchen\n",
    "- 1004874 Wang Shiyu "
   ]
  },
  {
   "cell_type": "markdown",
   "metadata": {},
   "source": [
    "## Import libraries and prepare data sets"
   ]
  },
  {
   "cell_type": "code",
   "execution_count": 1,
   "metadata": {},
   "outputs": [],
   "source": [
    "import pandas as pd\n",
    "import numpy as np\n",
    "import matplotlib.pyplot as plt\n",
    "\n",
    "from sklearn.model_selection import train_test_split\n",
    "from sklearn.svm import LinearSVC\n",
    "\n",
    "import csv"
   ]
  },
  {
   "cell_type": "code",
   "execution_count": 2,
   "metadata": {},
   "outputs": [],
   "source": [
    "def mergeArray(a1, a2):\n",
    "    a1 = a1[:, np.newaxis]\n",
    "    a2 = a2[:, np.newaxis]\n",
    "    return np.concatenate((a1, a2), axis=1)\n",
    "\n",
    "def write_pred(filename, ids, pred):\n",
    "    with open(filename, \"w\", newline='') as f:\n",
    "        writer = csv.writer(f)\n",
    "        writer.writerow([\"id\", \"label\"])\n",
    "        write_lst = mergeArray(ids, pred)\n",
    "        for r in write_lst:\n",
    "            writer.writerow(r)"
   ]
  },
  {
   "cell_type": "code",
   "execution_count": 2,
   "metadata": {},
   "outputs": [],
   "source": [
    "df = pd.read_csv(\"data/train_tfidf_features.csv\")\n",
    "test_df = pd.read_csv(\"data/test_tfidf_features.csv\")"
   ]
  },
  {
   "cell_type": "code",
   "execution_count": 3,
   "metadata": {},
   "outputs": [],
   "source": [
    "train_features = df.drop([\"label\",\"id\"], axis = 1).to_numpy()\n",
    "train_targets = df[\"label\"].to_numpy()\n",
    "\n",
    "unseen_x = test_df.drop([\"id\"], axis = 1).to_numpy()\n",
    "id_lst = test_df[\"id\"].to_numpy()\n",
    "\n",
    "# holdout\n",
    "train_x, test_x, train_y, test_y = train_test_split(train_features, train_targets, test_size=0.3, random_state=20)"
   ]
  },
  {
   "cell_type": "code",
   "execution_count": 39,
   "metadata": {},
   "outputs": [
    {
     "name": "stdout",
     "output_type": "stream",
     "text": [
      "(12028, 5000)\n",
      "(5156, 5000)\n",
      "(4296,)\n"
     ]
    }
   ],
   "source": [
    "print(train_x.shape)\n",
    "print(test_x.shape)\n",
    "#print(id_lst.shape)"
   ]
  },
  {
   "cell_type": "markdown",
   "metadata": {},
   "source": [
    "## Task 1: Logistic Regression"
   ]
  },
  {
   "cell_type": "markdown",
   "metadata": {},
   "source": [
    "### Implementation"
   ]
  },
  {
   "cell_type": "code",
   "execution_count": 44,
   "metadata": {},
   "outputs": [],
   "source": [
    "#n: number of feature; m: number of training examples; x: input matrix(m*n); y: 1/0\n",
    "#  ; w : weight (n*1) ; b: bias ; y_hat: between 0 and 1(p)\n",
    "\n",
    "def sigmoid(z):\n",
    "    return 1.0/(1+np.exp(-z))\n",
    "\n",
    "#y_hat\n",
    "def hypothesis(w, X,b):\n",
    "    return sigmoid(np.dot(X,w)+b)\n",
    "\n",
    "# need to minimize\n",
    "def loss(y, y_hat):\n",
    "    J = -np.mean(y*(np.log(y_hat))-(1-y)*np.log(1-y_hat))\n",
    "    return J\n",
    "\n",
    "#find partial derivative\n",
    "def gradients(X, y, y_hat):\n",
    "    m = X.shape[0]\n",
    "    residuals = y_hat - y\n",
    "    dw = (1/m)*np.dot(X.T, residuals)\n",
    "    db = (1/m)*np.sum(residuals)\n",
    "    return dw, db\n",
    "\n",
    "def normalize(X):\n",
    "    m,n=X.shape\n",
    "    for i in range(n):\n",
    "        X=(X-X.mean(axis=0))/X.std(axis=0)\n",
    "    return X\n",
    "\n",
    "def train(X, y, bs, epochs, lr):\n",
    "    m,n=X.shape\n",
    "    w=np.zeros((n,1))\n",
    "    b=0\n",
    "    y=y.reshape(m,1)\n",
    "    #x=normalize(X)\n",
    "    lossList=[]\n",
    "    for i in range(epochs):\n",
    "        for j in range((m-1)//bs+1):\n",
    "            start=j*bs\n",
    "            end=start+bs\n",
    "            xb=X[start:end]\n",
    "            yb=y[start:end]\n",
    "            y_hat=hypothesis(w,xb,b)\n",
    "            dw,db=gradients(xb,yb,y_hat)\n",
    "            w-=lr*dw\n",
    "            b-=lr*db\n",
    "        y_hat_now=hypothesis(w,X,b)\n",
    "        ls=loss(y,y_hat_now)\n",
    "        lossList.append(ls)\n",
    "    return w, b, lossList\n",
    "\n",
    "def predict(X, w, b):\n",
    "    #x=normalize(X)\n",
    "    predictions=[]\n",
    "    y_hat=hypothesis(w,X,b)\n",
    "    #print(y_hat)\n",
    "    predictions=[1 if i>0.5 else 0 for i in y_hat]\n",
    "    return np.array(predictions)\n",
    "\n",
    "#how to use‘\n",
    "\n",
    "w,b,l=train(train_x,train_y,50,1000,0.01)\n",
    "#print(w,b,l)\n",
    "test_predict = predict(unseen_x, w, b)\n",
    "#df_pred=pd.DataFrame(test_predict)\n",
    "#df_test=pd.DataFrame(test_x)\n",
    "#print(df_pred)\n",
    "#print(test_x)\n",
    "#df_log=pd.concat([df_test,df_pred],axis=1,join='inner').T\n",
    "#print(df_log)\n",
    "write_pred('LogRed_Prediction.csv', id_lst, test_predict)\n"
   ]
  },
  {
   "cell_type": "code",
   "execution_count": null,
   "metadata": {},
   "outputs": [],
   "source": [
    "# DDW implementation\n",
    "def normalize_z(dfin):\n",
    "    mean_in = dfin.mean(axis=0)\n",
    "    std_in = dfin.std(axis=0)\n",
    "    \n",
    "    dfout = (dfin - mean_in)/std_in\n",
    "\n",
    "    return dfout\n",
    "\n",
    "def log_regression(beta, X):\n",
    "    return 1/(1+np.exp(-np.matmul(X,beta)))\n",
    "\n",
    "def compute_cost_logreg(beta, X, y):\n",
    "    np.seterr(divide = 'ignore') \n",
    "\n",
    "    rows = X.shape[0]\n",
    "    hypo = log_regression(beta, X)\n",
    "    J = np.sum(-1/rows * np.where(y == 0, np.log2(1-hypo), np.log2(hypo)))\n",
    "\n",
    "    np.seterr(divide = 'warn')\n",
    "    return J\n",
    "\n",
    "def gradient_descent_logreg(X, y, beta, alpha, num_iters):\n",
    "    rows = X.shape[0]\n",
    "    J_storage = np.empty((num_iters,1))\n",
    "    for i in range(num_iters):\n",
    "        hypo = log_regression(beta,X)\n",
    "        residuals = hypo - y\n",
    "        beta = beta - (alpha/rows)*np.matmul(X.T, residuals)\n",
    "        J_storage[i] = compute_cost_logreg(beta, X, y)\n",
    "\n",
    "    return beta, J_storage\n",
    "\n",
    "def predict_norm(X, beta):\n",
    "    pred = log_regression(beta, X)\n",
    "    return np.where(pred < 0.5, 0,1)\n",
    "\n",
    "def predict(xmat, beta):\n",
    "    X = normalize_z(xmat)    # standardize and prepare feature\n",
    "    y_hat = predict_norm(X, beta)\n",
    "    return y_hat\n",
    "\n",
    "beta = np.zeros((train_x.shape[1], 1))\n",
    "\n",
    "beta, costs = gradient_descent_logreg(train_x, train_y, beta, 0.01, 1500)\n",
    "\n",
    "pred = predict(test_x, beta)\n"
   ]
  },
  {
   "cell_type": "markdown",
   "metadata": {},
   "source": [
    "### Testing"
   ]
  },
  {
   "cell_type": "code",
   "execution_count": 31,
   "metadata": {},
   "outputs": [
    {
     "name": "stderr",
     "output_type": "stream",
     "text": [
      "c:\\Users\\wyhzu\\Anaconda3\\lib\\site-packages\\sklearn\\linear_model\\logistic.py:432: FutureWarning: Default solver will be changed to 'lbfgs' in 0.22. Specify a solver to silence this warning.\n",
      "  FutureWarning)\n"
     ]
    },
    {
     "data": {
      "text/plain": [
       "0.7294414274631498"
      ]
     },
     "execution_count": 31,
     "metadata": {},
     "output_type": "execute_result"
    }
   ],
   "source": [
    "from sklearn.linear_model import LogisticRegression\n",
    "model = LogisticRegression()\n",
    "\n",
    "model.fit(train_x, train_y)\n",
    "\n",
    "pred = model.predict(test_x)\n",
    "model.score(test_x, test_y)"
   ]
  },
  {
   "cell_type": "code",
   "execution_count": 32,
   "metadata": {},
   "outputs": [
    {
     "name": "stdout",
     "output_type": "stream",
     "text": [
      "[1 0 1 ... 1 0 0]\n"
     ]
    }
   ],
   "source": [
    "pred = model.predict(unseen_x)\n",
    "#print(pred)\n",
    "write_pred('predictions/logreg_skl.csv', id_lst, pred)"
   ]
  },
  {
   "cell_type": "markdown",
   "metadata": {},
   "source": [
    "## Task 2: Dimension Reduction"
   ]
  },
  {
   "cell_type": "code",
   "execution_count": 4,
   "metadata": {},
   "outputs": [],
   "source": [
    "import random as rd\n",
    "\n",
    "from sklearn.svm import SVC\n",
    "from sklearn.decomposition import PCA\n",
    "from sklearn.neighbors import KNeighborsClassifier\n",
    "import matplotlib.pyplot as plt"
   ]
  },
  {
   "cell_type": "code",
   "execution_count": 5,
   "metadata": {},
   "outputs": [
    {
     "data": {
      "text/plain": [
       "array([[0., 0., 0., ..., 0., 0., 0.],\n",
       "       [0., 0., 0., ..., 0., 0., 0.],\n",
       "       [0., 0., 0., ..., 0., 0., 0.],\n",
       "       ...,\n",
       "       [0., 0., 0., ..., 0., 0., 0.],\n",
       "       [0., 0., 0., ..., 0., 0., 0.],\n",
       "       [0., 0., 0., ..., 0., 0., 0.]])"
      ]
     },
     "execution_count": 5,
     "metadata": {},
     "output_type": "execute_result"
    }
   ],
   "source": [
    "df_concat_pca = np.concatenate((train_features, unseen_x))\n",
    "\n",
    "#pd.concat([train_features, unseen_x], ignore_index=True)\n",
    "df_concat_pca"
   ]
  },
  {
   "cell_type": "code",
   "execution_count": 7,
   "metadata": {},
   "outputs": [],
   "source": [
    "#pca of concat features with 100 components\n",
    "\n",
    "pca_100 = PCA(n_components=100)\n",
    "pca_100.fit(df_concat_pca)\n",
    "new_features_100 = pca_100.transform(df_concat_pca)"
   ]
  },
  {
   "cell_type": "code",
   "execution_count": 14,
   "metadata": {},
   "outputs": [
    {
     "data": {
      "image/png": "[encoded data removed]",
      "text/plain": [
       "<Figure size 432x288 with 1 Axes>"
      ]
     },
     "metadata": {
      "needs_background": "light"
     },
     "output_type": "display_data"
    }
   ],
   "source": [
    "variance_100 = pca_100.explained_variance_ratio_\n",
    "#print(variance_100)\n",
    "per_var = np.round(variance_100*100, decimals=1)\n",
    "labels = [str(x) for x in range(1, len(per_var)+1)]\n",
    "\n",
    "plt.bar(x=range(1,len(per_var)+1), height=per_var, tick_label=labels)\n",
    "plt.ylabel('Percentage of Explained Variance')\n",
    "plt.xlabel('PC')\n",
    "plt.title('Scree Plot')\n",
    "plt.show()"
   ]
  },
  {
   "cell_type": "code",
   "execution_count": 10,
   "metadata": {},
   "outputs": [],
   "source": [
    "#pca of concat features with 500 components\n",
    "\n",
    "pca_500 = PCA(n_components=500)\n",
    "pca_500.fit(df_concat_pca)\n",
    "new_features_500 = pca_500.transform(df_concat_pca)"
   ]
  },
  {
   "cell_type": "code",
   "execution_count": 15,
   "metadata": {},
   "outputs": [
    {
     "data": {
      "image/png": "[encoded data removed]",
      "text/plain": [
       "<Figure size 432x288 with 1 Axes>"
      ]
     },
     "metadata": {
      "needs_background": "light"
     },
     "output_type": "display_data"
    }
   ],
   "source": [
    "variance_500 = pca_500.explained_variance_ratio_\n",
    "#print(variance_500)\n",
    "per_var = np.round(variance_500*100, decimals=1)\n",
    "labels = [str(x) for x in range(1, len(per_var)+1)]\n",
    "\n",
    "plt.bar(x=range(1,len(per_var)+1), height=per_var, tick_label=labels)\n",
    "plt.ylabel('Percentage of Explained Variance')\n",
    "plt.xlabel('PC')\n",
    "plt.title('Scree Plot')\n",
    "plt.show()"
   ]
  },
  {
   "cell_type": "code",
   "execution_count": 12,
   "metadata": {},
   "outputs": [],
   "source": [
    "#pca of concat features with 1000 components\n",
    "\n",
    "pca_1000 = PCA(n_components=1000)\n",
    "pca_1000.fit(df_concat_pca)\n",
    "new_features_1000 = pca_1000.transform(df_concat_pca)"
   ]
  },
  {
   "cell_type": "code",
   "execution_count": 16,
   "metadata": {},
   "outputs": [
    {
     "data": {
      "image/png": "[encoded data removed]",
      "text/plain": [
       "<Figure size 432x288 with 1 Axes>"
      ]
     },
     "metadata": {
      "needs_background": "light"
     },
     "output_type": "display_data"
    }
   ],
   "source": [
    "variance_1000 = pca_1000.explained_variance_ratio_\n",
    "#print(variance_1000)\n",
    "per_var = np.round(variance_1000*100, decimals=1)\n",
    "labels = [str(x) for x in range(1, len(per_var)+1)]\n",
    "\n",
    "plt.bar(x=range(1,len(per_var)+1), height=per_var, tick_label=labels)\n",
    "plt.ylabel('Percentage of Explained Variance')\n",
    "plt.xlabel('PC')\n",
    "plt.title('Scree Plot')\n",
    "plt.show()"
   ]
  },
  {
   "cell_type": "code",
   "execution_count": 6,
   "metadata": {},
   "outputs": [],
   "source": [
    "#pca of concat features with 2000 components\n",
    "\n",
    "pca_2000 = PCA(n_components=2000)\n",
    "pca_2000.fit(df_concat_pca)\n",
    "new_features_2000 = pca_2000.transform(df_concat_pca)"
   ]
  },
  {
   "cell_type": "code",
   "execution_count": 7,
   "metadata": {},
   "outputs": [
    {
     "data": {
      "image/png": "[encoded data removed]",
      "text/plain": [
       "<Figure size 432x288 with 1 Axes>"
      ]
     },
     "metadata": {
      "needs_background": "light"
     },
     "output_type": "display_data"
    }
   ],
   "source": [
    "variance_2000 = pca_2000.explained_variance_ratio_\n",
    "#print(variance_2000)\n",
    "per_var = np.round(variance_2000*100, decimals=1)\n",
    "labels = [str(x) for x in range(1, len(per_var)+1)]\n",
    "\n",
    "plt.bar(x=range(1,len(per_var)+1), height=per_var, tick_label=labels)\n",
    "plt.ylabel('Percentage of Explained Variance')\n",
    "plt.xlabel('PC')\n",
    "plt.title('Scree Plot')\n",
    "plt.show()"
   ]
  },
  {
   "cell_type": "code",
   "execution_count": null,
   "metadata": {},
   "outputs": [],
   "source": [
    "#cut train and tests\n",
    "\n",
    "new_features_100_train = new_features_100[:17184]\n",
    "new_features_500_train = new_features_500[:17184]\n",
    "new_features_1000_train = new_features_1000[:17184]\n",
    "new_features_2000_train = new_features_2000[:17184]\n",
    "\n",
    "test_features_100 = new_features_100[17184:]\n",
    "test_features_500 = new_features_500[17184:]\n",
    "test_features_1000 = new_features_1000[17184:]\n",
    "test_features_2000 = new_features_2000[17184:]"
   ]
  },
  {
   "cell_type": "code",
   "execution_count": null,
   "metadata": {},
   "outputs": [],
   "source": [
    "#KNN modeling\n",
    "knn = KNeighborsClassifier(n_neighbors=2)\n",
    "knn.fit(new_features_100_train, train_targets)\n",
    "\n",
    "#predict result with component of 100\n",
    "predict_100 = knn.predict(test_features_100)\n",
    "\n",
    "df_predict_100 = pd.DataFrame(predict_100, columns = ['label'])\n",
    "df_100 = pd.concat([id_lst, df_predict_100], axis = 1)"
   ]
  },
  {
   "cell_type": "code",
   "execution_count": null,
   "metadata": {},
   "outputs": [],
   "source": [
    "#KNN modeling\n",
    "knn.fit(new_features_500_train, train_targets)\n",
    "\n",
    "#predict result with component of 500\n",
    "predict_500 = knn.predict(test_features_500)\n",
    "\n",
    "df_predict_500 = pd.DataFrame(predict_500, columns = ['label'])\n",
    "df_500 = pd.concat([id_lst, df_predict_500], axis = 1)"
   ]
  },
  {
   "cell_type": "code",
   "execution_count": null,
   "metadata": {},
   "outputs": [],
   "source": [
    "#KNN modeling\n",
    "knn.fit(new_features_1000_train, train_targets)\n",
    "\n",
    "#predict result with component of 1000\n",
    "predict_1000 = knn.predict(test_features_1000)\n",
    "\n",
    "df_predict_1000 = pd.DataFrame(predict_1000, columns = ['label'])\n",
    "df_1000 = pd.concat([id_lst, df_predict_1000], axis = 1)"
   ]
  },
  {
   "cell_type": "code",
   "execution_count": null,
   "metadata": {},
   "outputs": [],
   "source": [
    "#KNN modeling\n",
    "knn.fit(new_features_2000_train, train_targets)\n",
    "\n",
    "#predict result with component of 2000\n",
    "predict_2000 = knn.predict(test_features_2000)\n",
    "\n",
    "df_predict_2000 = pd.DataFrame(predict_2000, columns = ['label'])\n",
    "df_2000 = pd.concat([id_lst, df_predict_2000], axis = 1)"
   ]
  },
  {
   "cell_type": "code",
   "execution_count": null,
   "metadata": {},
   "outputs": [],
   "source": [
    "#write prediction to csv files\n",
    "df_100.to_csv('pred_100.csv', index=False)\n",
    "df_500.to_csv('pred_500.csv', index=False)\n",
    "df_1000.to_csv('pred_1000.csv', index=False)\n",
    "df_2000.to_csv('pred_2000.csv', index=False)"
   ]
  },
  {
   "cell_type": "markdown",
   "metadata": {},
   "source": [
    "## Task 3: Improvements + Other Models"
   ]
  },
  {
   "cell_type": "markdown",
   "metadata": {},
   "source": [
    "### Cross Validation/ Subsampling"
   ]
  },
  {
   "cell_type": "code",
   "execution_count": null,
   "metadata": {},
   "outputs": [],
   "source": [
    "from sklearn.model_selection import cross_val_score\n",
    "from sklearn.metrics import f1_score\n",
    "from sklearn.model_selection import train_test_split\n",
    "\n",
    "def subsample(model, X, y, test_size=0.2, reps=3):\n",
    "    f_lst = [0]*reps\n",
    "    \n",
    "    for i in range(reps):\n",
    "        print(f\"Rep {i} ...\")\n",
    "        X_train, X_test, y_train, y_test = train_test_split(X,y,test_size=test_size)\n",
    "\n",
    "        model.fit(X_train, y_train)\n",
    "        pred = model.predict(X_test)\n",
    "        f_lst[i] = f1_score(y_test, pred)\n",
    "    \n",
    "    return np.array(f_lst)\n"
   ]
  },
  {
   "cell_type": "code",
   "execution_count": null,
   "metadata": {},
   "outputs": [
    {
     "name": "stdout",
     "output_type": "stream",
     "text": [
      "Rep 0...\n",
      "Rep 1...\n",
      "Rep 2...\n"
     ]
    },
    {
     "data": {
      "text/plain": [
       "([0.575812274368231, 0.5909712722298222, 0.5712988192552225],\n",
       " 0.5793607886177585,\n",
       " 0.008414088048972134)"
      ]
     },
     "execution_count": 14,
     "metadata": {},
     "output_type": "execute_result"
    }
   ],
   "source": [
    "subsample(LogisticRegression(), train_features, train_targets)"
   ]
  },
  {
   "cell_type": "markdown",
   "metadata": {},
   "source": [
    "### Support Vector Machine"
   ]
  },
  {
   "cell_type": "code",
   "execution_count": null,
   "metadata": {},
   "outputs": [
    {
     "name": "stdout",
     "output_type": "stream",
     "text": [
      "0.9186897239773861 0.6666020170674942\n"
     ]
    }
   ],
   "source": [
    "svm_model = LinearSVC(dual = False, C=50.0)\n",
    "\n",
    "svm_model.fit(train_x,train_y)\n",
    "\n",
    "pred = svm_model.predict(test_x)\n",
    "train_score = svm_model.score(train_x, train_y)\n",
    "test_score = svm_model.score(test_x, test_y)\n",
    "\n",
    "print(train_score, test_score)\n"
   ]
  },
  {
   "cell_type": "code",
   "execution_count": null,
   "metadata": {},
   "outputs": [],
   "source": [
    "predictions = svm_model.predict(unseen_x)\n",
    "write_pred('prediction_svm_50.csv', id_lst, predictions)"
   ]
  },
  {
   "cell_type": "markdown",
   "metadata": {},
   "source": [
    "### Neural Network"
   ]
  },
  {
   "cell_type": "code",
   "execution_count": null,
   "metadata": {},
   "outputs": [],
   "source": [
    "from sklearn.neural_network import MLPClassifier"
   ]
  },
  {
   "cell_type": "code",
   "execution_count": null,
   "metadata": {},
   "outputs": [
    {
     "name": "stderr",
     "output_type": "stream",
     "text": [
      "c:\\Users\\yapzh\\anaconda3\\lib\\site-packages\\sklearn\\neural_network\\_multilayer_perceptron.py:582: ConvergenceWarning: Stochastic Optimizer: Maximum iterations (200) reached and the optimization hasn't converged yet.\n",
      "  warnings.warn(\n"
     ]
    },
    {
     "data": {
      "text/plain": [
       "0.56519533231862"
      ]
     },
     "execution_count": 15,
     "metadata": {},
     "output_type": "execute_result"
    }
   ],
   "source": [
    "clf = MLPClassifier(hidden_layer_sizes=(10,))\n",
    "\n",
    "clf.fit(train_x, train_y)\n",
    "pred_nn = clf.predict(test_x)\n",
    "print(clf.score(test_x, test_y))\n",
    "f_score(pred_nn, test_y)"
   ]
  },
  {
   "cell_type": "code",
   "execution_count": null,
   "metadata": {},
   "outputs": [],
   "source": [
    "nn_measures = dict()\n",
    "nn_measures[0] = subsample(train_features, train_targets, MLPClassifier(hidden_layer_sizes=(10)), test_size=0.3)\n",
    "nn_measures[1] = subsample(train_features, train_targets, MLPClassifier(hidden_layer_sizes=(50)), test_size=0.3)\n",
    "nn_measures[2] = subsample(train_features, train_targets, MLPClassifier(hidden_layer_sizes=(100)), test_size=0.3)\n"
   ]
  },
  {
   "cell_type": "code",
   "execution_count": null,
   "metadata": {},
   "outputs": [
    {
     "data": {
      "text/plain": [
       "{0: ([0.5597579425113465, 0.5464124435524336, 0.5479313824419778],\n",
       "  0.551367256168586,\n",
       "  0.005965428557641294),\n",
       " 1: ([0.5602365114560236, 0.5625, 0.5595622979358369],\n",
       "  0.5607662697972868,\n",
       "  0.001256451691484269),\n",
       " 2: ([0.5847225678029361, 0.5734477536597677, 0.5928834355828221],\n",
       "  0.5836845856818419,\n",
       "  0.007968458157691427)}"
      ]
     },
     "execution_count": 9,
     "metadata": {},
     "output_type": "execute_result"
    }
   ],
   "source": [
    "nn_measures"
   ]
  },
  {
   "cell_type": "markdown",
   "metadata": {},
   "source": [
    "### Decision Trees/ Random Forest"
   ]
  },
  {
   "cell_type": "code",
   "execution_count": null,
   "metadata": {},
   "outputs": [],
   "source": [
    "from sklearn.ensemble import RandomForestClassifier"
   ]
  },
  {
   "cell_type": "code",
   "execution_count": null,
   "metadata": {},
   "outputs": [
    {
     "data": {
      "text/plain": [
       "0.596617687829221"
      ]
     },
     "execution_count": 14,
     "metadata": {},
     "output_type": "execute_result"
    }
   ],
   "source": [
    "clf = RandomForestClassifier()\n",
    "clf.fit(train_x, train_y)\n",
    "prds = clf.predict(test_x)\n",
    "f_score(prds, test_y)"
   ]
  },
  {
   "cell_type": "code",
   "execution_count": null,
   "metadata": {},
   "outputs": [],
   "source": [
    "clf.fit(train_features, train_targets)\n",
    "preds = clf.predict(unseen_x)\n",
    "\n",
    "write_pred('random_forest.csv', id_lst, preds)"
   ]
  },
  {
   "cell_type": "markdown",
   "metadata": {},
   "source": [
    "### Boosting"
   ]
  },
  {
   "cell_type": "markdown",
   "metadata": {},
   "source": [
    "1. Gradient Boosting "
   ]
  },
  {
   "cell_type": "code",
   "execution_count": null,
   "metadata": {},
   "outputs": [],
   "source": [
    "from sklearn.ensemble import GradientBoostingClassifier\n",
    "from sklearn.model_selection import GridSearchCV"
   ]
  },
  {
   "cell_type": "code",
   "execution_count": null,
   "metadata": {},
   "outputs": [],
   "source": [
    "# optimise hyperparameters\n",
    "gbc = GradientBoostingClassifier(learning_rate=0.2, n_estimators=100, subsample=0.8, min_samples_split=50, min_samples_leaf=50, max_depth=15,  max_features=\"sqrt\")\n",
    "# 'max_depth':(8,15,20,50,80,100), 'min_samples_split':(1,2,5),'min_samples_leaf':(2,5,10),'learning_rate':(0.05,0.1,0.2),'n_estimators':(80,100,200,300)\n",
    "parameters = {'max_depth':(8,15,20,50,80,100)}\n",
    "\n",
    "clf = GridSearchCV(gbc, parameters)\n",
    "clf.fit(train_x, train_y)\n",
    "\n",
    "clf.cv_results_"
   ]
  },
  {
   "cell_type": "code",
   "execution_count": null,
   "metadata": {},
   "outputs": [],
   "source": [
    "# clf = GradientBoostingClassifier(loss='deviance',learning_rate=0.1, n_estimators=300, warm_start=True,subsample=1, criterion= 'squared_error', min_samples_split=2, min_samples_leaf=5, max_depth=50,  max_features=\"sqrt\")\n",
    "clf = GradientBoostingClassifier(learning_rate=0.2, n_estimators=300, subsample=0.8, min_samples_split=50, min_samples_leaf=50, max_depth=80,  max_features=\"sqrt\")\n",
    "clf.fit(train_x, train_y)\n",
    "prds = clf.predict(test_x)\n",
    "print(f1_score(prds, test_y))\n",
    "\n",
    "clf.fit(train_features, train_targets)\n",
    "preds = clf.predict(unseen_x)\n",
    "write_pred('predictions/GradientBoostingClassifier.csv', id_lst, preds)"
   ]
  },
  {
   "cell_type": "markdown",
   "metadata": {},
   "source": [
    "2. AdaBoost"
   ]
  },
  {
   "cell_type": "code",
   "execution_count": null,
   "metadata": {},
   "outputs": [],
   "source": [
    "from sklearn.ensemble import AdaBoostClassifier #For Classification\n",
    "from sklearn.tree import DecisionTreeClassifier"
   ]
  },
  {
   "cell_type": "code",
   "execution_count": null,
   "metadata": {},
   "outputs": [
    {
     "name": "stdout",
     "output_type": "stream",
     "text": [
      "0.5622119815668203\n"
     ]
    }
   ],
   "source": [
    "dtree = DecisionTreeClassifier()\n",
    "clf = AdaBoostClassifier(n_estimators=200, base_estimator=dtree,learning_rate=0.1)\n",
    "clf.fit(train_x, train_y)\n",
    "prds = clf.predict(test_x)\n",
    "print(f1_score(prds, test_y))\n",
    "# 0.5622119815668203"
   ]
  },
  {
   "cell_type": "markdown",
   "metadata": {},
   "source": [
    "3. xgboost"
   ]
  },
  {
   "cell_type": "code",
   "execution_count": null,
   "metadata": {},
   "outputs": [
    {
     "name": "stdout",
     "output_type": "stream",
     "text": [
      "0.5514261019878997\n"
     ]
    }
   ],
   "source": [
    "import xgboost as xgb\n",
    "clf = xgb.XGBClassifier(learning_rate=0.01, max_depth=100, n_estimators=100)\n",
    "clf.fit(train_x, train_y)\n",
    "prds = clf.predict(test_x)\n",
    "print(f1_score(prds, test_y))\n",
    "# 0.5514261019878997"
   ]
  },
  {
   "cell_type": "markdown",
   "metadata": {},
   "source": [
    "4. Stacking Classifier\n",
    "- ps: 2 layers are not proved efficient"
   ]
  },
  {
   "cell_type": "code",
   "execution_count": null,
   "metadata": {},
   "outputs": [],
   "source": [
    "from sklearn.svm import LinearSVC\n",
    "from sklearn.linear_model import LogisticRegression\n",
    "from sklearn.ensemble import StackingClassifier,RandomForestClassifier\n",
    "from sklearn.tree import DecisionTreeClassifier\n",
    "from sklearn.model_selection import train_test_split\n",
    "from sklearn.naive_bayes import BernoulliNB\n",
    "from sklearn.ensemble import AdaBoostClassifier #For Classification\n",
    "from sklearn.neighbors import KNeighborsClassifier"
   ]
  },
  {
   "cell_type": "code",
   "execution_count": null,
   "metadata": {},
   "outputs": [
    {
     "name": "stdout",
     "output_type": "stream",
     "text": [
      "0.6198895027624309\n"
     ]
    }
   ],
   "source": [
    "# Create Learners per layer\n",
    "layer_one_estimators = [\n",
    "                        ('rf_1', RandomForestClassifier(n_estimators=200, random_state=42,max_depth=50)),\n",
    "                        ('bnb_1', BernoulliNB(alpha = 0.6))             \n",
    "                       ]\n",
    "\n",
    "clf = StackingClassifier(estimators=layer_one_estimators, final_estimator=LogisticRegression())\n",
    "clf.fit(train_x, train_y)\n",
    "prds = clf.predict(test_x)\n",
    "print(f1_score(prds, test_y))\n",
    "\n",
    "clf.fit(train_features, train_targets)\n",
    "preds = clf.predict(unseen_x)\n",
    "write_pred('predictions/StackingClassifier_rd_bnb.csv', id_lst, preds)\n",
    "# 0.6198895027624309"
   ]
  },
  {
   "cell_type": "code",
   "execution_count": null,
   "metadata": {},
   "outputs": [
    {
     "name": "stdout",
     "output_type": "stream",
     "text": [
      "0.6210526315789474\n"
     ]
    }
   ],
   "source": [
    "layer_one_estimators = [\n",
    "                        ('rf_1', RandomForestClassifier(n_estimators=200, random_state=42,max_depth=50)),\n",
    "                        ('knn_1', BernoulliNB(alpha = 0.6)),\n",
    "                        ('dt_2', DecisionTreeClassifier(max_depth=50))             \n",
    "                       ]\n",
    "clf = StackingClassifier(estimators=layer_one_estimators, final_estimator=LogisticRegression())\n",
    "clf.fit(train_x, train_y)\n",
    "prds = clf.predict(test_x)\n",
    "print(f1_score(prds, test_y))\n",
    "clf.fit(train_features, train_targets)\n",
    "preds = clf.predict(unseen_x)\n",
    "write_pred('predictions/StackingClassifier_rd_bnb_dt.csv', id_lst, preds)\n",
    "# 0.6210526315789474"
   ]
  },
  {
   "cell_type": "code",
   "execution_count": null,
   "metadata": {},
   "outputs": [
    {
     "name": "stdout",
     "output_type": "stream",
     "text": [
      "0.6263345195729536\n"
     ]
    }
   ],
   "source": [
    "# best predictions、\n",
    "layer_one_estimators = [\n",
    "                        ('rf_1', RandomForestClassifier(n_estimators=300, random_state=42,max_depth=80)),\n",
    "                        ('bnb_1', BernoulliNB(alpha = 0.6)),\n",
    "                        ('dt_1', DecisionTreeClassifier(max_depth=80)),\n",
    "                        (\"knn_1\",KNeighborsClassifier(n_neighbors=15))             \n",
    "                       ]\n",
    "clf = StackingClassifier(estimators=layer_one_estimators, final_estimator=LogisticRegression())\n",
    "clf.fit(train_x, train_y)\n",
    "prds = clf.predict(test_x)\n",
    "print(f1_score(prds, test_y))\n",
    "clf.fit(train_features, train_targets)\n",
    "preds = clf.predict(unseen_x)\n",
    "write_pred('predictions/StackingClassifier_rd_bnb_dt_250_80.csv', id_lst, preds)\n",
    "# 0.6263345195729536"
   ]
  }
 ],
 "metadata": {
  "kernelspec": {
   "display_name": "Python 3.9.12 ('base')",
   "language": "python",
   "name": "python3"
  },
  "language_info": {
   "codemirror_mode": {
    "name": "ipython",
    "version": 3
   },
   "file_extension": ".py",
   "mimetype": "text/x-python",
   "name": "python",
   "nbconvert_exporter": "python",
   "pygments_lexer": "ipython3",
   "version": "3.9.12"
  },
  "orig_nbformat": 4,
  "vscode": {
   "interpreter": {
    "hash": "a5d6c2be6262c78dadbf075e7ed7eef3fc1090c1044fdcff36d11e01ba01e819"
   }
  }
 },
 "nbformat": 4,
 "nbformat_minor": 2
}
